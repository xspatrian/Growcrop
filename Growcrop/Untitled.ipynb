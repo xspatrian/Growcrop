{
 "cells": [
  {
   "cell_type": "code",
   "execution_count": 37,
   "id": "09da5f75-bba3-4a56-88c9-53f327adb4d8",
   "metadata": {},
   "outputs": [],
   "source": [
    "from __future__ import print_function\n",
    "import pandas as pd\n",
    "import numpy as np\n",
    "import matplotlib.pyplot as plt\n",
    "import seaborn as sns\n",
    "from sklearn.metrics import classification_report\n",
    "from sklearn import metrics\n",
    "from sklearn import tree\n",
    "import warnings\n",
    "warnings.filterwarnings('ignore')"
   ]
  },
  {
   "cell_type": "code",
   "execution_count": 39,
   "id": "007feb55-1f53-4276-ba31-eb88d7005333",
   "metadata": {},
   "outputs": [],
   "source": [
    "df = pd.read_csv('Crop_recommendationcgange.csv')"
   ]
  },
  {
   "cell_type": "code",
   "execution_count": 40,
   "id": "cf97cb95-e5dd-4951-a3d4-53640572bbfc",
   "metadata": {},
   "outputs": [],
   "source": [
    "df=df.dropna()"
   ]
  },
  {
   "cell_type": "code",
   "execution_count": 41,
   "id": "3069c7f2-5472-46a6-94fa-3f63543cba35",
   "metadata": {},
   "outputs": [
    {
     "data": {
      "text/plain": [
       "chickpea       101\n",
       "lentil         101\n",
       "rice           100\n",
       "watermelon     100\n",
       "maize          100\n",
       "coffee         100\n",
       "jute           100\n",
       "cotton         100\n",
       "coconut        100\n",
       "orange         100\n",
       "apple          100\n",
       "muskmelon      100\n",
       "papaya         100\n",
       "grapes         100\n",
       "banana         100\n",
       "pomegranate    100\n",
       "blackgram      100\n",
       "mungbean       100\n",
       "mothbeans      100\n",
       "pigeonpeas     100\n",
       "mango          100\n",
       "kidneybeans    100\n",
       "garlic           1\n",
       "broccoli         1\n",
       "bellpepper       1\n",
       "pumpkin          1\n",
       "eggplant         1\n",
       "cauliflower      1\n",
       "blueberry        1\n",
       "ginger           1\n",
       "cherry           1\n",
       "raspberry        1\n",
       "blackberry       1\n",
       "lettuce          1\n",
       "spinach          1\n",
       "potato           1\n",
       "beetroot         1\n",
       "onion            1\n",
       "carrot           1\n",
       "tomato           1\n",
       "pea              1\n",
       "peanut           1\n",
       "millet           1\n",
       "sorghum          1\n",
       "sunflower        1\n",
       "sugarcane        1\n",
       "soybean          1\n",
       "barley           1\n",
       "wheat            1\n",
       "gauva            1\n",
       "Name: label, dtype: int64"
      ]
     },
     "execution_count": 41,
     "metadata": {},
     "output_type": "execute_result"
    }
   ],
   "source": [
    "df['label'].value_counts()"
   ]
  },
  {
   "cell_type": "code",
   "execution_count": 42,
   "id": "20ad4973-bb76-4054-bda3-40486afa3775",
   "metadata": {},
   "outputs": [],
   "source": [
    "features = df[['N', 'P','K','temperature', 'humidity', 'ph', 'rainfall']]\n",
    "target = df['label']\n",
    "labels = df['label']"
   ]
  },
  {
   "cell_type": "code",
   "execution_count": 43,
   "id": "5a726154-7486-4826-99ed-6b4f4e2724d4",
   "metadata": {},
   "outputs": [],
   "source": [
    "from imblearn.over_sampling import RandomOverSampler\n",
    "from collections import Counter"
   ]
  },
  {
   "cell_type": "code",
   "execution_count": 44,
   "id": "47dd9b54-4373-49b0-baa1-534ae1728634",
   "metadata": {},
   "outputs": [],
   "source": [
    "x_sample=features\n",
    "y_sample=target"
   ]
  },
  {
   "cell_type": "code",
   "execution_count": 45,
   "id": "98d9589f-66d6-4943-800e-b1e56061ce47",
   "metadata": {},
   "outputs": [],
   "source": [
    "class_distribution = Counter(y_sample)\n",
    "\n",
    "\n",
    "target_samples_per_class = 101\n",
    "\n",
    "\n",
    "sampling_strategy = {}\n",
    "for class_label, count in class_distribution.items():\n",
    "    oversample_ratio = target_samples_per_class / count\n",
    "    sampling_strategy[class_label] = int(count * oversample_ratio)\n",
    "\n",
    "\n",
    "ros = RandomOverSampler(sampling_strategy=sampling_strategy)"
   ]
  },
  {
   "cell_type": "code",
   "execution_count": 46,
   "id": "97a23d7f-10e8-4232-9103-e8b26ca9c0ba",
   "metadata": {},
   "outputs": [],
   "source": [
    "X_resampled, y_resampled = ros.fit_resample(x_sample, y_sample)\n",
    "\n",
    "# Assuming X_resampled and y_resampled are DataFrames or Series\n",
    "df1 = pd.DataFrame(X_resampled)\n",
    "df2 = pd.DataFrame(y_resampled)\n",
    "\n",
    "# Add a common key column to both DataFrames\n",
    "df1=df1.reset_index()\n",
    "df2=df2.reset_index()\n",
    "\n",
    "merged_df=pd.merge(df1, df2, on='index')\n",
    "\n",
    "merged_df.to_csv('new_crop.csv', index=False)\n"
   ]
  },
  {
   "cell_type": "code",
   "execution_count": 47,
   "id": "f447e9c5-591e-4fad-b119-2c94320eede4",
   "metadata": {},
   "outputs": [],
   "source": [
    "acc = []\n",
    "model = []"
   ]
  },
  {
   "cell_type": "code",
   "execution_count": 48,
   "id": "f7fb6def-9eee-4375-b24f-eb991c72c13f",
   "metadata": {},
   "outputs": [],
   "source": [
    "from sklearn.model_selection import train_test_split\n",
    "Xtrain, Xtest, Ytrain, Ytest = train_test_split(X_resampled,y_resampled,test_size = 0.3,random_state =2)"
   ]
  },
  {
   "cell_type": "code",
   "execution_count": 49,
   "id": "f1c32a78-26f9-4d6b-af9d-02ed0d658555",
   "metadata": {},
   "outputs": [
    {
     "name": "stdout",
     "output_type": "stream",
     "text": [
      "RF's Accuracy is:  0.8673267326732673\n",
      "              precision    recall  f1-score   support\n",
      "\n",
      "       apple       1.00      1.00      1.00        32\n",
      "      banana       0.96      1.00      0.98        26\n",
      "      barley       1.00      1.00      1.00        30\n",
      "    beetroot       1.00      1.00      1.00        30\n",
      "  bellpepper       0.40      1.00      0.57        22\n",
      "  blackberry       0.00      0.00      0.00        38\n",
      "   blackgram       1.00      1.00      1.00        27\n",
      "   blueberry       1.00      1.00      1.00        36\n",
      "    broccoli       0.46      1.00      0.63        33\n",
      "      carrot       0.31      1.00      0.48        26\n",
      " cauliflower       0.44      1.00      0.61        25\n",
      "      cherry       1.00      1.00      1.00        24\n",
      "    chickpea       1.00      1.00      1.00        34\n",
      "     coconut       1.00      1.00      1.00        29\n",
      "      coffee       1.00      1.00      1.00        33\n",
      "      cotton       1.00      1.00      1.00        28\n",
      "    eggplant       1.00      1.00      1.00        32\n",
      "      garlic       0.00      0.00      0.00        29\n",
      "       gauva       1.00      1.00      1.00        21\n",
      "      ginger       1.00      1.00      1.00        38\n",
      "      grapes       1.00      1.00      1.00        25\n",
      "        jute       0.96      1.00      0.98        27\n",
      " kidneybeans       1.00      1.00      1.00        35\n",
      "      lentil       1.00      1.00      1.00        33\n",
      "     lettuce       0.00      0.00      0.00        39\n",
      "       maize       1.00      1.00      1.00        32\n",
      "       mango       1.00      1.00      1.00        33\n",
      "      millet       1.00      1.00      1.00        27\n",
      "   mothbeans       1.00      1.00      1.00        30\n",
      "    mungbean       1.00      1.00      1.00        28\n",
      "   muskmelon       1.00      1.00      1.00        28\n",
      "       onion       0.00      0.00      0.00        28\n",
      "      orange       1.00      1.00      1.00        34\n",
      "      papaya       1.00      0.97      0.98        31\n",
      "         pea       1.00      1.00      1.00        39\n",
      "      peanut       1.00      1.00      1.00        23\n",
      "  pigeonpeas       1.00      1.00      1.00        28\n",
      " pomegranate       1.00      1.00      1.00        31\n",
      "      potato       1.00      1.00      1.00        27\n",
      "     pumpkin       1.00      1.00      1.00        33\n",
      "   raspberry       0.42      1.00      0.59        27\n",
      "        rice       1.00      0.97      0.98        32\n",
      "     sorghum       1.00      1.00      1.00        32\n",
      "     soybean       1.00      1.00      1.00        31\n",
      "     spinach       0.00      0.00      0.00        32\n",
      "   sugarcane       1.00      1.00      1.00        25\n",
      "   sunflower       1.00      1.00      1.00        32\n",
      "      tomato       0.00      0.00      0.00        33\n",
      "  watermelon       1.00      1.00      1.00        34\n",
      "       wheat       1.00      1.00      1.00        33\n",
      "\n",
      "    accuracy                           0.87      1515\n",
      "   macro avg       0.82      0.88      0.84      1515\n",
      "weighted avg       0.82      0.87      0.83      1515\n",
      "\n"
     ]
    }
   ],
   "source": [
    "from sklearn.ensemble import RandomForestClassifier\n",
    "\n",
    "RF = RandomForestClassifier(n_estimators=20, random_state=0)\n",
    "RF.fit(Xtrain,Ytrain)\n",
    "\n",
    "predicted_values = RF.predict(Xtest)\n",
    "\n",
    "x = metrics.accuracy_score(Ytest, predicted_values)\n",
    "acc.append(x)\n",
    "model.append('RF')\n",
    "print(\"RF's Accuracy is: \", x)\n",
    "\n",
    "print(classification_report(Ytest,predicted_values))"
   ]
  },
  {
   "cell_type": "code",
   "execution_count": 50,
   "id": "1a8cdbfb-a670-47d6-97fc-d115b683d90a",
   "metadata": {},
   "outputs": [],
   "source": [
    "import pickle\n",
    "# Dump the trained Naive Bayes classifier with Pickle\n",
    "RF_pkl_filename = 'RandomForest.pkl'\n",
    "# Open the file to save as pkl file\n",
    "RF_Model_pkl = open(RF_pkl_filename, 'wb')\n",
    "pickle.dump(RF, RF_Model_pkl)\n",
    "# Close the pickle instances\n",
    "RF_Model_pkl.close()"
   ]
  },
  {
   "cell_type": "code",
   "execution_count": null,
   "id": "9991383c-4acd-488e-9cee-e066f00c456e",
   "metadata": {},
   "outputs": [],
   "source": []
  },
  {
   "cell_type": "code",
   "execution_count": 51,
   "id": "2948634e-1a3d-4f65-8811-0cfa29475c2a",
   "metadata": {},
   "outputs": [
    {
     "name": "stdout",
     "output_type": "stream",
     "text": [
      "['gauva']\n"
     ]
    }
   ],
   "source": [
    "data = np.array([[90.0,40.0,60.0,25.000000,60.000000,6.000000,700.000000]])\n",
    "prediction = RF.predict(data)\n",
    "print(prediction)"
   ]
  },
  {
   "cell_type": "code",
   "execution_count": null,
   "id": "b838a8b1-71bd-4b75-87d0-3ffb8ce5ad36",
   "metadata": {},
   "outputs": [],
   "source": []
  }
 ],
 "metadata": {
  "kernelspec": {
   "display_name": "Python 3 (ipykernel)",
   "language": "python",
   "name": "python3"
  },
  "language_info": {
   "codemirror_mode": {
    "name": "ipython",
    "version": 3
   },
   "file_extension": ".py",
   "mimetype": "text/x-python",
   "name": "python",
   "nbconvert_exporter": "python",
   "pygments_lexer": "ipython3",
   "version": "3.10.9"
  }
 },
 "nbformat": 4,
 "nbformat_minor": 5
}
